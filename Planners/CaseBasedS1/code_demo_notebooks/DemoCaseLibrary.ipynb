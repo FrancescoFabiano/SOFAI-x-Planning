{
 "cells": [
  {
   "cell_type": "code",
   "execution_count": 1,
   "metadata": {},
   "outputs": [],
   "source": [
    "# Load core code as library\n",
    "# Call core code and show its working in this notebook\n",
    "\n",
    "# Find_Cases function initial implementation\n",
    "\n",
    "import json\n",
    "import os\n",
    "import sys\n",
    "sys.path.append('../code_core')\n",
    "\n",
    "from ranking_algorithm import *\n",
    "\n",
    "f = open( '../../cases/cases.json' )\n",
    "data = json.load(f)"
   ]
  },
  {
   "cell_type": "code",
   "execution_count": 4,
   "metadata": {},
   "outputs": [
    {
     "name": "stdout",
     "output_type": "stream",
     "text": [
      "Enter Input{\"domain\": 'coininthebox', \"init\": ['([a b](looking a)','([a b c](has_key a)'] ,\"goal\": ['([a](opened)','([a][b](tail)']}\n"
     ]
    }
   ],
   "source": [
    "# Sample input \n",
    "\n",
    "# {\"domain\": 'blockworld', \"init\": ['(on-table a)','(clear b)'] ,\"goal\": ['(on a b)','(on b c)']}\n",
    "import ast\n",
    "\n",
    "input_dict = input(\"Enter Input\")\n",
    "res = ast.literal_eval(input_dict)\n",
    "\n",
    "Domain = res[\"domain\"]\n",
    "init = res[\"init\"]\n",
    "goal = res[\"goal\"]"
   ]
  },
  {
   "cell_type": "code",
   "execution_count": 5,
   "metadata": {},
   "outputs": [
    {
     "name": "stdout",
     "output_type": "stream",
     "text": [
      "Following are the matching plan files ranked based on the number of steps to reach the goal:\n",
      "\n",
      "(1, 'coininthebox-plans/plan_1.txt')\n",
      "(1, 'coininthebox-plans/plan_11.txt')\n",
      "(1, 'coininthebox-plans/plan_16.txt')\n",
      "(1, 'coininthebox-plans/plan_6.txt')\n",
      "(2, 'coininthebox-plans/plan_17.txt')\n",
      "(2, 'coininthebox-plans/plan_2.txt')\n",
      "(2, 'coininthebox-plans/plan_7.txt')\n",
      "(3, 'coininthebox-plans/plan_19.txt')\n",
      "(3, 'coininthebox-plans/plan_4.txt')\n",
      "(3, 'coininthebox-plans/plan_5.txt')\n",
      "(3, 'coininthebox-plans/plan_9.txt')\n",
      "(4, 'coininthebox-plans/plan_10.txt')\n",
      "(4, 'coininthebox-plans/plan_18.txt')\n",
      "(4, 'coininthebox-plans/plan_20.txt')\n",
      "(4, 'coininthebox-plans/plan_3.txt')\n",
      "(4, 'coininthebox-plans/plan_8.txt')\n"
     ]
    }
   ],
   "source": [
    "index = max( [int(k) for k in data['cases'].keys()] )\n",
    "\n",
    "res_plans = []\n",
    "ranks = []\n",
    "\n",
    "if Domain == str(0):\n",
    "\n",
    "    for i in range(1, index+1):\n",
    "\n",
    "        temp_init = data[\"cases\"][str(i)][\"initial\"]\n",
    "        temp_goal = data[\"cases\"][str(i)][\"goal\"]\n",
    "\n",
    "        check_init = any(item in init for item in temp_init)\n",
    "        check_goal = any(item in goal for item in temp_goal)\n",
    "\n",
    "        if check_init == True or check_goal == True:\n",
    "            res_plans.append(data[\"cases\"][str(i)][\"Index\"])\n",
    "            ranks.append( RankPlan(data[\"cases\"][str(i)][\"Index\"]) )\n",
    "\n",
    "else:\n",
    "\n",
    "    for i in range(1, index+1):\n",
    "\n",
    "        if data[\"cases\"][str(i)][\"Planning_Domain\"] == Domain:\n",
    "\n",
    "            temp_init = data[\"cases\"][str(i)][\"initial\"]\n",
    "            temp_goal = data[\"cases\"][str(i)][\"goal\"]\n",
    "\n",
    "            check_init = any(item in init for item in temp_init)\n",
    "            check_goal = any(item in goal for item in temp_goal)\n",
    "\n",
    "            if check_init == True or check_goal == True:\n",
    "                res_plans.append(data[\"cases\"][str(i)][\"Index\"])\n",
    "                ranks.append( RankPlan(data[\"cases\"][str(i)][\"Index\"]) )\n",
    "\n",
    "print(\"Following are the matching plan files ranked based on the number of steps to reach the goal:\\n\")\n",
    "for i in sorted(zip(ranks,res_plans)):\n",
    "    print(i)"
   ]
  },
  {
   "cell_type": "code",
   "execution_count": null,
   "metadata": {},
   "outputs": [],
   "source": []
  }
 ],
 "metadata": {
  "interpreter": {
   "hash": "fa71f0efbc7f2d65b02cc0590f27cb3fcd4e7b48190bca20ac07610d539f429c"
  },
  "kernelspec": {
   "display_name": "Python 3",
   "language": "python",
   "name": "python3"
  },
  "language_info": {
   "codemirror_mode": {
    "name": "ipython",
    "version": 3
   },
   "file_extension": ".py",
   "mimetype": "text/x-python",
   "name": "python",
   "nbconvert_exporter": "python",
   "pygments_lexer": "ipython3",
   "version": "3.7.6"
  }
 },
 "nbformat": 4,
 "nbformat_minor": 4
}
