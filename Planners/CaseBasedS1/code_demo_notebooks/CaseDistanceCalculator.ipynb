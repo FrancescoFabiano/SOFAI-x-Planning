{
 "cells": [
  {
   "cell_type": "code",
   "execution_count": 1,
   "metadata": {},
   "outputs": [],
   "source": [
    "#importing functions\n",
    "import sys\n",
    "sys.path.append('../code_core')\n",
    "from case_distance_calculator import *"
   ]
  },
  {
   "cell_type": "code",
   "execution_count": 2,
   "metadata": {},
   "outputs": [],
   "source": [
    "#initializeCaseLib takes mode as a param.\n",
    "#mode can be 0 or 1. \n",
    "#mode 0 assumes problem P as a string and levenshtein distance as a metric. \n",
    "#mode 1 assumes problem P as a set and jaccard similarity as a metric.\n",
    "problem = initializeCaseLib(0)"
   ]
  },
  {
   "cell_type": "code",
   "execution_count": 3,
   "metadata": {},
   "outputs": [
    {
     "name": "stdout",
     "output_type": "stream",
     "text": [
      "Enter Input: {\"domain\": \"coininthebox\", \"init\": [ \"(tail)\", \"(has_key a)\", \"(looking a)\", \"([a b c](has_key a)\", \"([a b c](not (has_key b)\", \"([a b c](not (has_key c)\", \"([a b c](not (opened)\", \"([a b c](looking a)\", \"([a b c](not (looking b)\", \"([a b c](not (looking c)\" ], \"goal\": [ \"([a](opened)\" ]}\n"
     ]
    }
   ],
   "source": [
    "# sample input: \n",
    "# - Blocks world, 1 plan returned\n",
    "#   {\"domain\": \"blockworld\", \"init\": [ \"(on-table a)\", \"(on-table b)\", \"(clear a)\", \"(clear b)\", \"(arm-empty)\" ], \"goal\": [ \"(on a b)\" ]}\n",
    "# - Coin in the box, multiple plans returned, 10 plans\n",
    "#   {\"domain\": \"coininthebox\", \"init\": [ \"(tail)\", \"(has_key a)\", \"(looking a)\", \"([a b c](has_key a)\", \"([a b c](not (has_key b)\", \"([a b c](not (has_key c)\", \"([a b c](not (opened)\", \"([a b c](looking a)\", \"([a b c](not (looking b)\", \"([a b c](not (looking c)\" ], \"goal\": [ \"([a](opened)\" ]}\n",
    "usr_input = input(\"Enter Input: \")"
   ]
  },
  {
   "cell_type": "code",
   "execution_count": 4,
   "metadata": {},
   "outputs": [
    {
     "name": "stdout",
     "output_type": "stream",
     "text": [
      "(tail)|(has_key a)|(looking a)|([a b c](has_key a)|([a b c](not (has_key b)|([a b c](not (has_key c)|([a b c](not (opened)|([a b c](looking a)|([a b c](not (looking b)|([a b c](not (looking c)|([a](opened)\n"
     ]
    }
   ],
   "source": [
    "usr_planning_domain, usr_problem = createUserQueryCaseRepn(usr_input)\n",
    "print (usr_problem)"
   ]
  },
  {
   "cell_type": "code",
   "execution_count": 5,
   "metadata": {},
   "outputs": [
    {
     "data": {
      "text/plain": [
       "[(0.9951456310679612,\n",
       "  'coininthebox-plans/plan_1.txt',\n",
       "  ['(tail)',\n",
       "   '(has_key a)',\n",
       "   '(looking a)',\n",
       "   '([a b c](has_key a)',\n",
       "   '([a b c](not (has_key b)',\n",
       "   '([a b c](not (has_key c)',\n",
       "   '([a b c](not (opened)',\n",
       "   '([a b c](looking a)',\n",
       "   '([a b c](not (looking b)',\n",
       "   '([a b c](not (looking c)'],\n",
       "  ['([a](opened)']),\n",
       " (0.9805825242718447,\n",
       "  'coininthebox-plans/plan_11.txt',\n",
       "  ['(tail)',\n",
       "   '(has_key b)',\n",
       "   '(looking a)',\n",
       "   '([a b c](has_key b)',\n",
       "   '([a b c](not (has_key a)',\n",
       "   '([a b c](not (has_key c)',\n",
       "   '([a b c](not (opened)',\n",
       "   '([a b c](looking a)',\n",
       "   '([a b c](not (looking b)',\n",
       "   '([a b c](not (looking c)'],\n",
       "  ['([a](opened)']),\n",
       " (0.9658536585365853,\n",
       "  'coininthebox-plans/plan_2.txt',\n",
       "  ['(tail)',\n",
       "   '(has_key a)',\n",
       "   '(looking a)',\n",
       "   '([a b c](has_key a)',\n",
       "   '([a b c](not (has_key b)',\n",
       "   '([a b c](not (has_key c)',\n",
       "   '([a b c](not (opened)',\n",
       "   '([a b c](looking a)',\n",
       "   '([a b c](not (looking b)',\n",
       "   '([a b c](not (looking c)'],\n",
       "  ['([a](tail)']),\n",
       " (0.9609756097560975,\n",
       "  'coininthebox-plans/plan_4.txt',\n",
       "  ['(tail)',\n",
       "   '(has_key a)',\n",
       "   '(looking a)',\n",
       "   '([a b c](has_key a)',\n",
       "   '([a b c](not (has_key b)',\n",
       "   '([a b c](not (has_key c)',\n",
       "   '([a b c](not (opened)',\n",
       "   '([a b c](looking a)',\n",
       "   '([a b c](not (looking b)',\n",
       "   '([a b c](not (looking c)'],\n",
       "  ['([b](tail)']),\n",
       " (0.9609756097560975,\n",
       "  'coininthebox-plans/plan_5.txt',\n",
       "  ['(tail)',\n",
       "   '(has_key a)',\n",
       "   '(looking a)',\n",
       "   '([a b c](has_key a)',\n",
       "   '([a b c](not (has_key b)',\n",
       "   '([a b c](not (has_key c)',\n",
       "   '([a b c](not (opened)',\n",
       "   '([a b c](looking a)',\n",
       "   '([a b c](not (looking b)',\n",
       "   '([a b c](not (looking c)'],\n",
       "  ['([c](tail)']),\n",
       " (0.9516908212560387,\n",
       "  'coininthebox-plans/plan_3.txt',\n",
       "  ['(tail)',\n",
       "   '(has_key a)',\n",
       "   '(looking a)',\n",
       "   '([a b c](has_key a)',\n",
       "   '([a b c](not (has_key b)',\n",
       "   '([a b c](not (has_key c)',\n",
       "   '([a b c](not (opened)',\n",
       "   '([a b c](looking a)',\n",
       "   '([a b c](not (looking b)',\n",
       "   '([a b c](not (looking c)'],\n",
       "  ['([b][a](tail)']),\n",
       " (0.9512195121951219,\n",
       "  'coininthebox-plans/plan_12.txt',\n",
       "  ['(tail)',\n",
       "   '(has_key b)',\n",
       "   '(looking a)',\n",
       "   '([a b c](has_key b)',\n",
       "   '([a b c](not (has_key a)',\n",
       "   '([a b c](not (has_key c)',\n",
       "   '([a b c](not (opened)',\n",
       "   '([a b c](looking a)',\n",
       "   '([a b c](not (looking b)',\n",
       "   '([a b c](not (looking c)'],\n",
       "  ['([a](tail)']),\n",
       " (0.9463414634146341,\n",
       "  'coininthebox-plans/plan_14.txt',\n",
       "  ['(tail)',\n",
       "   '(has_key b)',\n",
       "   '(looking a)',\n",
       "   '([a b c](has_key b)',\n",
       "   '([a b c](not (has_key a)',\n",
       "   '([a b c](not (has_key c)',\n",
       "   '([a b c](not (opened)',\n",
       "   '([a b c](looking a)',\n",
       "   '([a b c](not (looking b)',\n",
       "   '([a b c](not (looking c)'],\n",
       "  ['([b](tail)']),\n",
       " (0.9463414634146341,\n",
       "  'coininthebox-plans/plan_15.txt',\n",
       "  ['(tail)',\n",
       "   '(has_key b)',\n",
       "   '(looking a)',\n",
       "   '([a b c](has_key b)',\n",
       "   '([a b c](not (has_key a)',\n",
       "   '([a b c](not (has_key c)',\n",
       "   '([a b c](not (opened)',\n",
       "   '([a b c](looking a)',\n",
       "   '([a b c](not (looking b)',\n",
       "   '([a b c](not (looking c)'],\n",
       "  ['([c](tail)']),\n",
       " (0.9371980676328502,\n",
       "  'coininthebox-plans/plan_13.txt',\n",
       "  ['(tail)',\n",
       "   '(has_key b)',\n",
       "   '(looking a)',\n",
       "   '([a b c](has_key b)',\n",
       "   '([a b c](not (has_key a)',\n",
       "   '([a b c](not (has_key c)',\n",
       "   '([a b c](not (opened)',\n",
       "   '([a b c](looking a)',\n",
       "   '([a b c](not (looking b)',\n",
       "   '([a b c](not (looking c)'],\n",
       "  ['([b][a](tail)']),\n",
       " (0.7024390243902439,\n",
       "  'coininthebox-plans/plan_6.txt',\n",
       "  ['(tail)',\n",
       "   '(has_key a)',\n",
       "   '(looking a)',\n",
       "   '([a b](has_key a)',\n",
       "   '([a b](not (has_key b)',\n",
       "   '([a b](not (opened)',\n",
       "   '([a b](looking a)',\n",
       "   '([a b](not (looking b)'],\n",
       "  ['([a](opened)'])]"
      ]
     },
     "execution_count": 5,
     "metadata": {},
     "output_type": "execute_result"
    }
   ],
   "source": [
    "# Shows working example for mode 0 (String, Lev.). Replacing it with 1 would give us the (Set, Jaccard) method.\n",
    "# Threshold is 0..1. Above or equal to threshold is considered a match.\n",
    "doCaseMatch(0, usr_planning_domain, usr_problem)"
   ]
  },
  {
   "cell_type": "code",
   "execution_count": null,
   "metadata": {},
   "outputs": [],
   "source": []
  },
  {
   "cell_type": "code",
   "execution_count": null,
   "metadata": {},
   "outputs": [],
   "source": []
  }
 ],
 "metadata": {
  "kernelspec": {
   "display_name": "Python 3 (ipykernel)",
   "language": "python",
   "name": "python3"
  },
  "language_info": {
   "codemirror_mode": {
    "name": "ipython",
    "version": 3
   },
   "file_extension": ".py",
   "mimetype": "text/x-python",
   "name": "python",
   "nbconvert_exporter": "python",
   "pygments_lexer": "ipython3",
   "version": "3.7.11"
  }
 },
 "nbformat": 4,
 "nbformat_minor": 4
}
